{
 "cells": [
  {
   "cell_type": "code",
   "execution_count": 53,
   "metadata": {},
   "outputs": [],
   "source": [
    "import paramiko, sys, os\n",
    "from getpass import getpass\n",
    "\n",
    "# File name that we are looking for\n",
    "outputFile = 'output.txt'"
   ]
  },
  {
   "cell_type": "code",
   "execution_count": 54,
   "metadata": {},
   "outputs": [],
   "source": [
    "# Code to look for a file and then provide user with options\n",
    "if os.path.exists(outputFile):\n",
    "    if input(\"\\nWARNING: The file \" + outputFile + \" already exists. Press D to delete it.\") == \"D\":\n",
    "        os.remove(outputFile)\n",
    "    else:\n",
    "        print(\"\\nWARNING: \" + outputFile + \" does not exist.\")\n",
    "        sys.exit()"
   ]
  },
  {
   "cell_type": "code",
   "execution_count": 55,
   "metadata": {},
   "outputs": [],
   "source": [
    "# Create the password prompt\n",
    "thePass = getpass(prompt=\"Please enter your SSH password: \")\n",
    "\n",
    "# Host information to log into the remote system\n",
    "host = \"192.168.0.179\"\n",
    "port = 22\n",
    "username = \"kali\"\n",
    "password = thePass\n",
    "\n",
    "# Connect to remote system\n",
    "try:\n",
    "    ssh = paramiko.SSHClient()\n",
    "    ssh.set_missing_host_key_policy(paramiko.AutoAddPolicy())\n",
    "    ssh.connect(host, port, username, password)\n",
    "except paramiko.AuthenticationException:\n",
    "    print(\"Authentication failed\")"
   ]
  },
  {
   "cell_type": "code",
   "execution_count": 56,
   "metadata": {},
   "outputs": [],
   "source": [
    "# Start SFTP session\n",
    "sftp = ssh.open_sftp()\n",
    "\n",
    "file = \"C:/Users/colec/Desktop/SYS320/Week06/homework/fs.py\"\n",
    "\n",
    "# Put the designated file in the designated location\n",
    "sftp.put(file, \"/home/kali/Desktop/CDB/fs.py\")\n",
    "\n",
    "# Execute the given command with the SSH session\n",
    "stdin, stdout, stderr = ssh.exec_command(\"python3 /home/kali/Desktop/CDB/fs.py -d /usr/bin\")\n",
    "\n",
    "lines = stdout.readlines()\n",
    "\n",
    "# Write the output of the command to a file\n",
    "with open(outputFile, \"w\") as f:\n",
    "    f.writelines(lines)\n",
    "\n",
    "# Close SSH connection\n",
    "#ssh.close()"
   ]
  }
 ],
 "metadata": {
  "kernelspec": {
   "display_name": "Python 3.10.7 64-bit (microsoft store)",
   "language": "python",
   "name": "python3"
  },
  "language_info": {
   "codemirror_mode": {
    "name": "ipython",
    "version": 3
   },
   "file_extension": ".py",
   "mimetype": "text/x-python",
   "name": "python",
   "nbconvert_exporter": "python",
   "pygments_lexer": "ipython3",
   "version": "3.10.8"
  },
  "orig_nbformat": 4,
  "vscode": {
   "interpreter": {
    "hash": "4c4dad9f5aa96a06d51ceee48c851c6447da7695896dd4f02afb14135b987531"
   }
  }
 },
 "nbformat": 4,
 "nbformat_minor": 2
}
