{
 "cells": [
  {
   "cell_type": "markdown",
   "metadata": {},
   "source": [
    "1. The os module, and more specifically the os.path module is home to the function to see if a file exists\n",
    "2. Within the above module, the function used to see if a file exists is .exists()\n",
    "3. The os module is home to the function used to remove a file\n",
    "4. Within the os module, the function to remove a file is .remove()\n",
    "5. The input() function is the standard Python function used to accept user input from a prompt\n"
   ]
  },
  {
   "cell_type": "code",
   "execution_count": 12,
   "metadata": {},
   "outputs": [],
   "source": [
    "import paramiko, sys, os\n",
    "from getpass import getpass\n",
    "\n",
    "# File name that we are looking for\n",
    "outputFile = 'output.txt'"
   ]
  },
  {
   "cell_type": "code",
   "execution_count": 13,
   "metadata": {},
   "outputs": [],
   "source": [
    "# Code to look for a file and then provide user with options\n",
    "if os.path.exists(outputFile):\n",
    "    if input(\"\\nWARNING: The file \" + outputFile + \" already exists. Press D to delete it.\") == \"D\":\n",
    "        os.remove(outputFile)\n",
    "    else:\n",
    "        sys.exit()\n",
    "else:\n",
    "    print(\"\\nWARNING: \" + outputFile + \" does not exist.\")"
   ]
  },
  {
   "cell_type": "code",
   "execution_count": 9,
   "metadata": {},
   "outputs": [],
   "source": [
    "# Create the password prompt\n",
    "thePass = getpass(prompt=\"Please enter your SSH password: \")\n",
    "\n",
    "# Host information to log into the remote system\n",
    "host = \"192.168.0.179\"\n",
    "port = 22\n",
    "username = \"kali\"\n",
    "password = thePass\n",
    "\n",
    "# Connect to remote system\n",
    "try:\n",
    "    ssh = paramiko.SSHClient()\n",
    "    ssh.set_missing_host_key_policy(paramiko.AutoAddPolicy())\n",
    "    ssh.connect(host, port, username, password)\n",
    "except paramiko.AuthenticationException:\n",
    "    print(\"Authentication failed\")"
   ]
  },
  {
   "cell_type": "code",
   "execution_count": 11,
   "metadata": {},
   "outputs": [],
   "source": [
    "# Run a single command\n",
    "command = \"ifconfig\"\n",
    "\n",
    "# Run a list of commands\n",
    "#command = [\"ps -ef\", \"netstat -an --inet\", \"last -adx\"]\n",
    "\n",
    "for eachCMD in command:\n",
    "\n",
    "# Get the output from the command\n",
    "    stdin, stdout, stderr = ssh.exec_command(eachCMD)\n",
    "\n",
    "    # Get results from stdout\n",
    "    lines = stdout.readlines()\n",
    "    #print(lines)\n",
    "\n",
    "    # Convert the list to a string\n",
    "    output = ''.join(lines)\n",
    "\n",
    "    # Header output\n",
    "    sepHeader = '' + '### BEGIN: ' + eachCMD + ' ###\\n'\n",
    "    # Footer output\n",
    "    sepFooter = '' + '\\n### END: ' + eachCMD + ' ###'\n",
    "\n",
    "    # Concatenate the header, output, and footer\n",
    "    cmd_output = sepHeader + output + sepFooter\n",
    "\n",
    "    # Save command output to a file\n",
    "    with open(outputFile, 'a') as f:\n",
    "        f.write(cmd_output)\n",
    "    #print(cmd_output)\n",
    "\n",
    "# Close the SSH connection\n",
    "ssh.close()"
   ]
  }
 ],
 "metadata": {
  "kernelspec": {
   "display_name": "Python 3.10.7 64-bit (microsoft store)",
   "language": "python",
   "name": "python3"
  },
  "language_info": {
   "codemirror_mode": {
    "name": "ipython",
    "version": 3
   },
   "file_extension": ".py",
   "mimetype": "text/x-python",
   "name": "python",
   "nbconvert_exporter": "python",
   "pygments_lexer": "ipython3",
   "version": "3.10.8"
  },
  "orig_nbformat": 4,
  "vscode": {
   "interpreter": {
    "hash": "4c4dad9f5aa96a06d51ceee48c851c6447da7695896dd4f02afb14135b987531"
   }
  }
 },
 "nbformat": 4,
 "nbformat_minor": 2
}
