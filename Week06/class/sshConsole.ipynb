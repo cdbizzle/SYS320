{
 "cells": [
  {
   "cell_type": "code",
   "execution_count": 1,
   "metadata": {},
   "outputs": [],
   "source": [
    "import paramiko\n",
    "from getpass import getpass\n",
    "\n",
    "# Create the password prompt\n",
    "thePass = getpass(prompt=\"Please enter your SSH password: \")\n",
    "\n",
    "# Host information to log into the remote system\n",
    "host = \"localhost\"\n",
    "port = 22\n",
    "username = \"colec\"\n",
    "password = thePass\n",
    "\n",
    "# Connect to remote system\n",
    "try:\n",
    "    ssh = paramiko.SSHClient()\n",
    "    ssh.set_missing_host_key_policy(paramiko.AutoAddPolicy())\n",
    "    ssh.connect(host, port, username, password)\n",
    "except paramiko.AuthenticationException:\n",
    "    print(\"Authentication failed\")"
   ]
  },
  {
   "cell_type": "code",
   "execution_count": 2,
   "metadata": {},
   "outputs": [],
   "source": [
    "# Run a single command\n",
    "#command = \"tasklist\"\n",
    "\n",
    "# Run a list of commands\n",
    "command = ['tasklist','netstat -an','last','net user']\n",
    "\n",
    "for eachCMD in command:\n",
    "\n",
    "\n",
    "\n",
    "# Get the output from the command\n",
    "    stdin, stdout, stderr = ssh.exec_command(eachCMD)\n",
    "\n",
    "    # Get results from stdout\n",
    "    lines = stdout.readlines()\n",
    "    #print(lines)\n",
    "\n",
    "    # Convert the list to a string\n",
    "    output = ''.join(lines)\n",
    "\n",
    "    # Header output\n",
    "    sepHeader = '' + '### BEGIN: ' + eachCMD + ' ###\\n'\n",
    "    # Footer output\n",
    "    sepFooter = '' + '\\n### END: ' + eachCMD + ' ###'\n",
    "\n",
    "    # Concatenate the header, output, and footer\n",
    "    cmd_output = sepHeader + output + sepFooter\n",
    "\n",
    "    # Save command output to a file\n",
    "    with open('sshResults.txt', 'a') as f:\n",
    "        f.write(cmd_output)\n",
    "    #print(cmd_output)\n",
    "\n",
    "# Close the SSH connection\n",
    "ssh.close()"
   ]
  }
 ],
 "metadata": {
  "kernelspec": {
   "display_name": "Python 3.10.7 64-bit (microsoft store)",
   "language": "python",
   "name": "python3"
  },
  "language_info": {
   "codemirror_mode": {
    "name": "ipython",
    "version": 3
   },
   "file_extension": ".py",
   "mimetype": "text/x-python",
   "name": "python",
   "nbconvert_exporter": "python",
   "pygments_lexer": "ipython3",
   "version": "3.10.8"
  },
  "orig_nbformat": 4,
  "vscode": {
   "interpreter": {
    "hash": "4c4dad9f5aa96a06d51ceee48c851c6447da7695896dd4f02afb14135b987531"
   }
  }
 },
 "nbformat": 4,
 "nbformat_minor": 2
}
