{
 "cells": [
  {
   "cell_type": "code",
   "execution_count": 24,
   "metadata": {},
   "outputs": [
    {
     "name": "stdout",
     "output_type": "stream",
     "text": [
      "Authentication failed\n"
     ]
    }
   ],
   "source": [
    "import paramiko\n",
    "from getpass import getpass\n",
    "\n",
    "# Create the password prompt\n",
    "thePass = getpass(prompt=\"Please enter your SSH password: \")\n",
    "\n",
    "# Host information to log into the remote system\n",
    "host = \"localhost\"\n",
    "port = 22\n",
    "username = \"colec\"\n",
    "password = thePass\n",
    "\n",
    "# Connect to remote system\n",
    "try:\n",
    "    ssh = paramiko.SSHClient()\n",
    "    ssh.set_missing_host_key_policy(paramiko.AutoAddPolicy())\n",
    "    ssh.connect(host, port, username, password)\n",
    "except paramiko.AuthenticationException:\n",
    "    print(\"Authentication failed\")"
   ]
  },
  {
   "cell_type": "code",
   "execution_count": 23,
   "metadata": {},
   "outputs": [
    {
     "ename": "AttributeError",
     "evalue": "'NoneType' object has no attribute 'open_session'",
     "output_type": "error",
     "traceback": [
      "\u001b[1;31m---------------------------------------------------------------------------\u001b[0m",
      "\u001b[1;31mAttributeError\u001b[0m                            Traceback (most recent call last)",
      "Cell \u001b[1;32mIn [23], line 12\u001b[0m\n\u001b[0;32m      5\u001b[0m command \u001b[39m=\u001b[39m [\u001b[39m'\u001b[39m\u001b[39mtasklist\u001b[39m\u001b[39m'\u001b[39m,\u001b[39m'\u001b[39m\u001b[39mnetstat -an\u001b[39m\u001b[39m'\u001b[39m,\u001b[39m'\u001b[39m\u001b[39mlast\u001b[39m\u001b[39m'\u001b[39m,\u001b[39m'\u001b[39m\u001b[39mnet user\u001b[39m\u001b[39m'\u001b[39m]\n\u001b[0;32m      7\u001b[0m \u001b[39mfor\u001b[39;00m eachCMD \u001b[39min\u001b[39;00m command:\n\u001b[0;32m      8\u001b[0m \n\u001b[0;32m      9\u001b[0m \n\u001b[0;32m     10\u001b[0m \n\u001b[0;32m     11\u001b[0m \u001b[39m# Get the output from the command\u001b[39;00m\n\u001b[1;32m---> 12\u001b[0m     stdin, stdout, stderr \u001b[39m=\u001b[39m ssh\u001b[39m.\u001b[39;49mexec_command(eachCMD)\n\u001b[0;32m     14\u001b[0m     \u001b[39m# Get results from stdout\u001b[39;00m\n\u001b[0;32m     15\u001b[0m     lines \u001b[39m=\u001b[39m stdout\u001b[39m.\u001b[39mreadlines()\n",
      "File \u001b[1;32m~\\AppData\\Local\\Packages\\PythonSoftwareFoundation.Python.3.10_qbz5n2kfra8p0\\LocalCache\\local-packages\\Python310\\site-packages\\paramiko\\client.py:510\u001b[0m, in \u001b[0;36mSSHClient.exec_command\u001b[1;34m(self, command, bufsize, timeout, get_pty, environment)\u001b[0m\n\u001b[0;32m    470\u001b[0m \u001b[39mdef\u001b[39;00m \u001b[39mexec_command\u001b[39m(\n\u001b[0;32m    471\u001b[0m     \u001b[39mself\u001b[39m,\n\u001b[0;32m    472\u001b[0m     command,\n\u001b[1;32m   (...)\u001b[0m\n\u001b[0;32m    476\u001b[0m     environment\u001b[39m=\u001b[39m\u001b[39mNone\u001b[39;00m,\n\u001b[0;32m    477\u001b[0m ):\n\u001b[0;32m    478\u001b[0m     \u001b[39m\"\"\"\u001b[39;00m\n\u001b[0;32m    479\u001b[0m \u001b[39m    Execute a command on the SSH server.  A new `.Channel` is opened and\u001b[39;00m\n\u001b[0;32m    480\u001b[0m \u001b[39m    the requested command is executed.  The command's input and output\u001b[39;00m\n\u001b[1;32m   (...)\u001b[0m\n\u001b[0;32m    508\u001b[0m \u001b[39m        Added the ``get_pty`` kwarg.\u001b[39;00m\n\u001b[0;32m    509\u001b[0m \u001b[39m    \"\"\"\u001b[39;00m\n\u001b[1;32m--> 510\u001b[0m     chan \u001b[39m=\u001b[39m \u001b[39mself\u001b[39;49m\u001b[39m.\u001b[39;49m_transport\u001b[39m.\u001b[39;49mopen_session(timeout\u001b[39m=\u001b[39mtimeout)\n\u001b[0;32m    511\u001b[0m     \u001b[39mif\u001b[39;00m get_pty:\n\u001b[0;32m    512\u001b[0m         chan\u001b[39m.\u001b[39mget_pty()\n",
      "\u001b[1;31mAttributeError\u001b[0m: 'NoneType' object has no attribute 'open_session'"
     ]
    }
   ],
   "source": [
    "# Run a single command\n",
    "#command = \"tasklist\"\n",
    "\n",
    "# Run a list of commands\n",
    "command = ['tasklist','netstat -an','last','net user']\n",
    "\n",
    "for eachCMD in command:\n",
    "\n",
    "\n",
    "\n",
    "# Get the output from the command\n",
    "    stdin, stdout, stderr = ssh.exec_command(eachCMD)\n",
    "\n",
    "    # Get results from stdout\n",
    "    lines = stdout.readlines()\n",
    "    #print(lines)\n",
    "\n",
    "    # Convert the list to a string\n",
    "    output = ''.join(lines)\n",
    "\n",
    "    # Header output\n",
    "    sepHeader = '' + '### BEGIN: ' + eachCMD + ' ###\\n'\n",
    "    # Footer output\n",
    "    sepFooter = '' + '\\n### END: ' + eachCMD + ' ###'\n",
    "\n",
    "    # Concatenate the header, output, and footer\n",
    "    cmd_output = sepHeader + output + sepFooter\n",
    "\n",
    "    # Save command output to a file\n",
    "    with open('sshResults.txt', 'a') as f:\n",
    "        f.write(cmd_output)\n",
    "    #print(cmd_output)\n",
    "\n",
    "# Close the SSH connection\n",
    "ssh.close()"
   ]
  }
 ],
 "metadata": {
  "kernelspec": {
   "display_name": "Python 3.10.7 64-bit (microsoft store)",
   "language": "python",
   "name": "python3"
  },
  "language_info": {
   "codemirror_mode": {
    "name": "ipython",
    "version": 3
   },
   "file_extension": ".py",
   "mimetype": "text/x-python",
   "name": "python",
   "nbconvert_exporter": "python",
   "pygments_lexer": "ipython3",
   "version": "3.10.7"
  },
  "orig_nbformat": 4,
  "vscode": {
   "interpreter": {
    "hash": "4c4dad9f5aa96a06d51ceee48c851c6447da7695896dd4f02afb14135b987531"
   }
  }
 },
 "nbformat": 4,
 "nbformat_minor": 2
}
