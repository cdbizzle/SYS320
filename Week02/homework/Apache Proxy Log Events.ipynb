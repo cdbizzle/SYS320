{
 "cells": [
  {
   "cell_type": "code",
   "execution_count": 1,
   "metadata": {},
   "outputs": [
    {
     "data": {
      "text/plain": [
       "<module 'apacheLog' from 'c:\\\\Users\\\\colec\\\\Desktop\\\\SYS320\\\\Week02\\\\homework\\\\apacheLog.py'>"
      ]
     },
     "execution_count": 1,
     "metadata": {},
     "output_type": "execute_result"
    }
   ],
   "source": [
    "import apacheLog\n",
    "import importlib\n",
    "importlib.reload(apacheLog)"
   ]
  },
  {
   "cell_type": "markdown",
   "metadata": {},
   "source": [
    "### Task 1"
   ]
  },
  {
   "cell_type": "code",
   "execution_count": 2,
   "metadata": {},
   "outputs": [
    {
     "name": "stdout",
     "output_type": "stream",
     "text": [
      "QQ.exe - cgi.qqweb.qq.com:80 - 477 bytes sent, 448 bytes received.\n",
      "QQ.exe - showxml.qq.com:80 - 600 bytes sent, 1716 bytes received.\n",
      "QQ.exe - qqmail.tencent.com:80 - 336 bytes sent, 2854 bytes received.\n",
      "QQ.exe - tcpconn4.tencent.com:80 - : bytes sent, connect bytes received.\n",
      "QQ.exe - tcpconn6.tencent.com:443 - 0 bytes sent, 0 bytes received.\n",
      "QQ.exe - tcpconn.tencent.com:80 - 133 bytes sent, 0 bytes received.\n",
      "QQ.exe - tcpconn3.tencent.com:443 - 149 bytes sent, 121 bytes received.\n",
      "QQProtectUpd.exe - qdun-data.qq.com:443 - 261 bytes sent, 70 bytes received.\n",
      "QQ.exe - tcpconn6.tencent.com:80 - 0 bytes sent, 0 bytes received.\n",
      "QQ.exe - 2052.flash2-http.qq.com:80 - 466 bytes sent, 125682 bytes received.\n",
      "QQ.exe - tcpconn3.tencent.com:80 - 0 bytes sent, 0 bytes received.\n",
      "QQExternal.exe - proxy.cse.cuhk.edu.hk:5070 - 1644 bytes sent, KB) bytes received.\n"
     ]
    }
   ],
   "source": [
    "apacheLog.apache_events('../../logs/Proxifier_2k.log', 'apache' , 'task1')"
   ]
  },
  {
   "cell_type": "markdown",
   "metadata": {},
   "source": [
    "### Task 2"
   ]
  },
  {
   "cell_type": "code",
   "execution_count": 3,
   "metadata": {},
   "outputs": [
    {
     "name": "stdout",
     "output_type": "stream",
     "text": [
      "QQ.exe - tcpconn3.tencent.com:443 - through bytes sent, HTTPS bytes received.\n",
      "QQ.exe - tcpconn6.tencent.com:443 - through bytes sent, HTTPS bytes received.\n",
      "QQPlayer.exe - btrace.qq.com:80 - through bytes sent, HTTPS bytes received.\n",
      "QQ.exe - cgi.qqweb.qq.com:80 - through bytes sent, HTTPS bytes received.\n",
      "QQ.exe - tcpconn6.tencent.com:80 - through bytes sent, HTTPS bytes received.\n",
      "QQProtectUpd.exe - qdun-data.qq.com:443 - through bytes sent, HTTPS bytes received.\n",
      "QQ.exe - 183.60.49.182:443 - through bytes sent, HTTPS bytes received.\n",
      "QQ.exe - tcpconn.tencent.com:80 - through bytes sent, HTTPS bytes received.\n"
     ]
    }
   ],
   "source": [
    "apacheLog.apache_events('../../logs/Proxifier_2k.log', 'apache' , 'task2')"
   ]
  }
 ],
 "metadata": {
  "kernelspec": {
   "display_name": "Python 3.9.5 64-bit",
   "language": "python",
   "name": "python3"
  },
  "language_info": {
   "codemirror_mode": {
    "name": "ipython",
    "version": 3
   },
   "file_extension": ".py",
   "mimetype": "text/x-python",
   "name": "python",
   "nbconvert_exporter": "python",
   "pygments_lexer": "ipython3",
   "version": "3.9.5"
  },
  "orig_nbformat": 4,
  "vscode": {
   "interpreter": {
    "hash": "41bd81205df5ce582630cfb1617ee8d3c38c49d68085006629c9ed8c6173f23a"
   }
  }
 },
 "nbformat": 4,
 "nbformat_minor": 2
}
