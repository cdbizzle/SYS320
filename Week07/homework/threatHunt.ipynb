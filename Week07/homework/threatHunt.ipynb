{
 "cells": [
  {
   "cell_type": "markdown",
   "metadata": {},
   "source": [
    "# Performing a Threat Hunt using Python"
   ]
  },
  {
   "cell_type": "code",
   "execution_count": 19,
   "metadata": {},
   "outputs": [],
   "source": [
    "import paramiko, sys, os, re\n",
    "from getpass import getpass"
   ]
  },
  {
   "cell_type": "code",
   "execution_count": 13,
   "metadata": {},
   "outputs": [],
   "source": [
    "# Create the password prompt\n",
    "thePass = getpass(prompt=\"Please enter your SSH password: \")\n",
    "\n",
    "# Host information to log into the remote system\n",
    "host = \"192.168.6.71\"\n",
    "port = 2222\n",
    "username = \"cole.davisbrand\"\n",
    "password = thePass\n",
    "\n",
    "# Connect to remote system\n",
    "try:\n",
    "    ssh = paramiko.SSHClient()\n",
    "    ssh.set_missing_host_key_policy(paramiko.AutoAddPolicy())\n",
    "    ssh.connect(host, port, username, password)\n",
    "except paramiko.AuthenticationException:\n",
    "    print(\"Authentication failed\")"
   ]
  },
  {
   "cell_type": "code",
   "execution_count": 14,
   "metadata": {},
   "outputs": [
    {
     "data": {
      "text/plain": [
       "<SFTPAttributes: [ size=9962192 uid=1286604553 gid=1286603265 mode=0o100755 atime=1667259819 mtime=1667261737 ]>"
      ]
     },
     "execution_count": 14,
     "metadata": {},
     "output_type": "execute_result"
    }
   ],
   "source": [
    "# Upload the Kraken binary\n",
    "sftp = ssh.open_sftp()\n",
    "sftp.put('kraken', \"/home/cole.davisbrand/kraken\")"
   ]
  },
  {
   "cell_type": "code",
   "execution_count": 45,
   "metadata": {},
   "outputs": [],
   "source": [
    "# Give Kraken executable perms\n",
    "ssh.exec_command(\"chmod +x /home/cole.davisbrand/kraken\")\n",
    "\n",
    "# Create Kraken command\n",
    "krakenCommand = \"sudo -S /home/cole.davisbrand/kraken --folder /usr/bin --folder  --folder /usr/sbin/   --folder /usr/local/bin  --folder /sbin  --folder /usr/local/sbin  --folder /bin\"\n",
    "\n",
    "# Get output from the Kraken command\n",
    "stdin, stdout, stderr, = ssh.exec_command(krakenCommand)\n",
    "\n",
    "# Must use password when running commmand with sudo privs\n",
    "stdin.write(password + \"\\n\")\n",
    "\n",
    "# print(\"Kraken has finished executing\")\n",
    "\n",
    "# Create file of PIDs from Kraken output, credit Paul Gleason for the help on this!\n",
    "for line in stdout.readlines():\n",
    "    if re.findall(r'.*pid.*', line):\n",
    "        with open('pid.txt', 'w') as f:\n",
    "            f.write(line.split(\" \")[-2].split(\"=\")[-1] + ' ')\n"
   ]
  },
  {
   "cell_type": "code",
   "execution_count": 76,
   "metadata": {},
   "outputs": [],
   "source": [
    "# Run \"lsof -p\" against PIDs found in Kraken output\n",
    "\n",
    "from distutils.filelist import findall\n",
    "\n",
    "\n",
    "lines = []\n",
    "\n",
    "with open('pid.txt', 'r') as f:\n",
    "    for line in f:\n",
    "        lines.append(line)\n",
    "\n",
    "for item in lines:\n",
    "    split_lines = item.split(\" \")\n",
    "\n",
    "for t in split_lines:\n",
    "\n",
    "    command = \"sudo -S lsof -p \" + t\n",
    "\n",
    "    stdin, stdout, stderr = ssh.exec_command(command)\n",
    "    stdin.write(thePass + \"\\n\")\n",
    "    stdin.flush()\n",
    "\n",
    "    # Write output to a file for better visability\n",
    "    for s in stdout.readlines():\n",
    "        with open('lsofOutput.txt', 'a') as f:\n",
    "            f.write(s)\n",
    "\n",
    "# From here I found that the user p.dalton seemed suspicious based out the lsof -p output. Looking at the lsofOutput.txt\n",
    "# file it was clear that this neeeded to be looked into further"
   ]
  },
  {
   "cell_type": "code",
   "execution_count": 87,
   "metadata": {},
   "outputs": [
    {
     "name": "stdout",
     "output_type": "stream",
     "text": [
      "aqwerpuqwerj\n",
      "\n"
     ]
    },
    {
     "ename": "FileNotFoundError",
     "evalue": "[Errno 2] No such file or directory: '/home/p.dalton/aqwerpuqwerj\\n'",
     "output_type": "error",
     "traceback": [
      "\u001b[1;31m---------------------------------------------------------------------------\u001b[0m",
      "\u001b[1;31mFileNotFoundError\u001b[0m                         Traceback (most recent call last)",
      "Cell \u001b[1;32mIn [87], line 7\u001b[0m\n\u001b[0;32m      5\u001b[0m \u001b[39mfor\u001b[39;00m line \u001b[39min\u001b[39;00m stdout\u001b[39m.\u001b[39mreadlines():\n\u001b[0;32m      6\u001b[0m     \u001b[39mprint\u001b[39m(line)\n\u001b[1;32m----> 7\u001b[0m     sftp\u001b[39m.\u001b[39;49mget(\u001b[39m'\u001b[39;49m\u001b[39m\\\u001b[39;49m\u001b[39mDesktop\u001b[39;49m\u001b[39m\\\u001b[39;49m\u001b[39mSYS320\u001b[39;49m\u001b[39m\\\u001b[39;49m\u001b[39mWeek07\u001b[39;49m\u001b[39m\\\u001b[39;49m\u001b[39mhomework\u001b[39;49m\u001b[39m'\u001b[39;49m, \u001b[39m'\u001b[39;49m\u001b[39m/home/\u001b[39;49m\u001b[39m'\u001b[39;49m\u001b[39m+\u001b[39;49msusUser\u001b[39m+\u001b[39;49m\u001b[39m'\u001b[39;49m\u001b[39m/\u001b[39;49m\u001b[39m'\u001b[39;49m\u001b[39m+\u001b[39;49mline)\n",
      "File \u001b[1;32m~\\AppData\\Local\\Packages\\PythonSoftwareFoundation.Python.3.10_qbz5n2kfra8p0\\LocalCache\\local-packages\\Python310\\site-packages\\paramiko\\sftp_client.py:810\u001b[0m, in \u001b[0;36mSFTPClient.get\u001b[1;34m(self, remotepath, localpath, callback, prefetch)\u001b[0m\n\u001b[0;32m    790\u001b[0m \u001b[39mdef\u001b[39;00m \u001b[39mget\u001b[39m(\u001b[39mself\u001b[39m, remotepath, localpath, callback\u001b[39m=\u001b[39m\u001b[39mNone\u001b[39;00m, prefetch\u001b[39m=\u001b[39m\u001b[39mTrue\u001b[39;00m):\n\u001b[0;32m    791\u001b[0m     \u001b[39m\"\"\"\u001b[39;00m\n\u001b[0;32m    792\u001b[0m \u001b[39m    Copy a remote file (``remotepath``) from the SFTP server to the local\u001b[39;00m\n\u001b[0;32m    793\u001b[0m \u001b[39m    host as ``localpath``.  Any exception raised by operations will be\u001b[39;00m\n\u001b[1;32m   (...)\u001b[0m\n\u001b[0;32m    808\u001b[0m \u001b[39m        Added the ``prefetch`` keyword argument.\u001b[39;00m\n\u001b[0;32m    809\u001b[0m \u001b[39m    \"\"\"\u001b[39;00m\n\u001b[1;32m--> 810\u001b[0m     \u001b[39mwith\u001b[39;00m \u001b[39mopen\u001b[39;49m(localpath, \u001b[39m\"\u001b[39;49m\u001b[39mwb\u001b[39;49m\u001b[39m\"\u001b[39;49m) \u001b[39mas\u001b[39;00m fl:\n\u001b[0;32m    811\u001b[0m         size \u001b[39m=\u001b[39m \u001b[39mself\u001b[39m\u001b[39m.\u001b[39mgetfo(remotepath, fl, callback, prefetch)\n\u001b[0;32m    812\u001b[0m     s \u001b[39m=\u001b[39m os\u001b[39m.\u001b[39mstat(localpath)\n",
      "\u001b[1;31mFileNotFoundError\u001b[0m: [Errno 2] No such file or directory: '/home/p.dalton/aqwerpuqwerj\\n'"
     ]
    }
   ],
   "source": [
    "# Download files from suspicious user\n",
    "susUser = 'p.dalton'\n",
    "stdin, stdout, stderr = ssh.exec_command('ls /home/'+susUser)\n",
    "\n",
    "for line in stdout.readlines():\n",
    "    print(line)\n",
    "    sftp.get('\\Desktop\\SYS320\\Week07\\homework', '/home/'+susUser+'/'+line)\n"
   ]
  }
 ],
 "metadata": {
  "kernelspec": {
   "display_name": "Python 3.10.8 64-bit (microsoft store)",
   "language": "python",
   "name": "python3"
  },
  "language_info": {
   "codemirror_mode": {
    "name": "ipython",
    "version": 3
   },
   "file_extension": ".py",
   "mimetype": "text/x-python",
   "name": "python",
   "nbconvert_exporter": "python",
   "pygments_lexer": "ipython3",
   "version": "3.10.8"
  },
  "orig_nbformat": 4,
  "vscode": {
   "interpreter": {
    "hash": "4c4dad9f5aa96a06d51ceee48c851c6447da7695896dd4f02afb14135b987531"
   }
  }
 },
 "nbformat": 4,
 "nbformat_minor": 2
}
