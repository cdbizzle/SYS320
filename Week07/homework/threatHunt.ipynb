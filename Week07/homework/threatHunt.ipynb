{
 "cells": [
  {
   "cell_type": "markdown",
   "metadata": {},
   "source": [
    "# Performing a Threat Hunt using Python"
   ]
  },
  {
   "cell_type": "code",
   "execution_count": 97,
   "metadata": {},
   "outputs": [],
   "source": [
    "import paramiko, sys, os, re\n",
    "from getpass import getpass"
   ]
  },
  {
   "cell_type": "code",
   "execution_count": 98,
   "metadata": {},
   "outputs": [],
   "source": [
    "# Create the password prompt\n",
    "thePass = getpass(prompt=\"Please enter your SSH password: \")\n",
    "\n",
    "# Host information to log into the remote system\n",
    "host = \"192.168.6.71\"\n",
    "port = 2222\n",
    "username = \"cole.davisbrand\"\n",
    "password = thePass\n",
    "\n",
    "# Connect to remote system\n",
    "try:\n",
    "    ssh = paramiko.SSHClient()\n",
    "    ssh.set_missing_host_key_policy(paramiko.AutoAddPolicy())\n",
    "    ssh.connect(host, port, username, password)\n",
    "except paramiko.AuthenticationException:\n",
    "    print(\"Authentication failed\")"
   ]
  },
  {
   "cell_type": "code",
   "execution_count": 99,
   "metadata": {},
   "outputs": [
    {
     "data": {
      "text/plain": [
       "<SFTPAttributes: [ size=9962192 uid=1286604553 gid=1286603265 mode=0o100755 atime=1667269896 mtime=1667270032 ]>"
      ]
     },
     "execution_count": 99,
     "metadata": {},
     "output_type": "execute_result"
    }
   ],
   "source": [
    "# Upload the Kraken binary\n",
    "sftp = ssh.open_sftp()\n",
    "sftp.put('kraken', \"/home/cole.davisbrand/kraken\")"
   ]
  },
  {
   "cell_type": "code",
   "execution_count": 100,
   "metadata": {},
   "outputs": [],
   "source": [
    "# Give Kraken executable perms\n",
    "ssh.exec_command(\"chmod +x /home/cole.davisbrand/kraken\")\n",
    "\n",
    "# Create Kraken command\n",
    "krakenCommand = \"sudo -S /home/cole.davisbrand/kraken --folder /usr/bin --folder  --folder /usr/sbin/   --folder /usr/local/bin  --folder /sbin  --folder /usr/local/sbin  --folder /bin\"\n",
    "\n",
    "# Get output from the Kraken command\n",
    "stdin, stdout, stderr, = ssh.exec_command(krakenCommand)\n",
    "\n",
    "# Must use password when running commmand with sudo privs\n",
    "stdin.write(password + \"\\n\")\n",
    "\n",
    "# print(\"Kraken has finished executing\")\n",
    "\n",
    "# Create file of PIDs from Kraken output, credit Paul Gleason for the help on this!\n",
    "for line in stdout.readlines():\n",
    "    if re.findall(r'.*pid.*', line):\n",
    "        with open('pid.txt', 'w') as f:\n",
    "            f.write(line.split(\" \")[-2].split(\"=\")[-1] + ' ')\n"
   ]
  },
  {
   "cell_type": "code",
   "execution_count": 101,
   "metadata": {},
   "outputs": [],
   "source": [
    "# Run \"lsof -p\" against PIDs found in Kraken output\n",
    "\n",
    "lines = []\n",
    "\n",
    "with open('pid.txt', 'r') as f:\n",
    "    for line in f:\n",
    "        lines.append(line)\n",
    "\n",
    "for item in lines:\n",
    "    splitLines = item.split(\" \")\n",
    "\n",
    "for t in splitLines:\n",
    "\n",
    "    command = \"sudo -S lsof -p \" + t\n",
    "\n",
    "    stdin, stdout, stderr = ssh.exec_command(command)\n",
    "    stdin.write(thePass + \"\\n\")\n",
    "    stdin.flush()\n",
    "\n",
    "    # Write output to a file for better visability\n",
    "    for s in stdout.readlines():\n",
    "        with open('lsofOutput.txt', 'a') as f:\n",
    "            f.write(s)\n",
    "\n",
    "# From here I found that the user p.dalton seemed suspicious based out the lsof -p output. Looking at the lsofOutput.txt\n",
    "# file it was clear that this neeeded to be looked into further"
   ]
  },
  {
   "cell_type": "code",
   "execution_count": 96,
   "metadata": {},
   "outputs": [],
   "source": [
    "# Download files from suspicious user\n",
    "\n"
   ]
  }
 ],
 "metadata": {
  "kernelspec": {
   "display_name": "Python 3.10.8 64-bit (microsoft store)",
   "language": "python",
   "name": "python3"
  },
  "language_info": {
   "codemirror_mode": {
    "name": "ipython",
    "version": 3
   },
   "file_extension": ".py",
   "mimetype": "text/x-python",
   "name": "python",
   "nbconvert_exporter": "python",
   "pygments_lexer": "ipython3",
   "version": "3.10.8"
  },
  "orig_nbformat": 4,
  "vscode": {
   "interpreter": {
    "hash": "4c4dad9f5aa96a06d51ceee48c851c6447da7695896dd4f02afb14135b987531"
   }
  }
 },
 "nbformat": 4,
 "nbformat_minor": 2
}
