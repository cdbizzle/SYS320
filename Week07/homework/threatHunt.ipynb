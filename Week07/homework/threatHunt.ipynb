{
 "cells": [
  {
   "cell_type": "markdown",
   "metadata": {},
   "source": [
    "# Performing a Threat Hunt using Python"
   ]
  },
  {
   "cell_type": "code",
   "execution_count": 128,
   "metadata": {},
   "outputs": [],
   "source": [
    "import paramiko, sys, os, re\n",
    "from getpass import getpass"
   ]
  },
  {
   "cell_type": "code",
   "execution_count": 129,
   "metadata": {},
   "outputs": [],
   "source": [
    "# Create the password prompt\n",
    "thePass = getpass(prompt=\"Please enter your SSH password: \")\n",
    "\n",
    "# Host information to log into the remote system\n",
    "host = \"192.168.6.71\"\n",
    "port = 2222\n",
    "username = \"cole.davisbrand\"\n",
    "password = thePass\n",
    "\n",
    "# Connect to remote system\n",
    "try:\n",
    "    ssh = paramiko.SSHClient()\n",
    "    ssh.set_missing_host_key_policy(paramiko.AutoAddPolicy())\n",
    "    ssh.connect(host, port, username, password)\n",
    "except paramiko.AuthenticationException:\n",
    "    print(\"Authentication failed\")"
   ]
  },
  {
   "cell_type": "code",
   "execution_count": 130,
   "metadata": {},
   "outputs": [
    {
     "data": {
      "text/plain": [
       "<SFTPAttributes: [ size=9962192 uid=1286604553 gid=1286603265 mode=0o100755 atime=1667532678 mtime=1667532794 ]>"
      ]
     },
     "execution_count": 130,
     "metadata": {},
     "output_type": "execute_result"
    }
   ],
   "source": [
    "# Upload the Kraken binary\n",
    "sftp = ssh.open_sftp()\n",
    "sftp.put('kraken', \"/home/cole.davisbrand/kraken\")"
   ]
  },
  {
   "cell_type": "code",
   "execution_count": 131,
   "metadata": {},
   "outputs": [],
   "source": [
    "# Give Kraken executable perms\n",
    "ssh.exec_command(\"chmod +x /home/cole.davisbrand/kraken\")\n",
    "\n",
    "# Create Kraken command\n",
    "krakenCommand = \"sudo -S /home/cole.davisbrand/kraken --folder /usr/bin --folder  --folder /usr/sbin/   --folder /usr/local/bin  --folder /sbin  --folder /usr/local/sbin  --folder /bin\"\n",
    "\n",
    "# Get output from the Kraken command\n",
    "stdin, stdout, stderr, = ssh.exec_command(krakenCommand)\n",
    "\n",
    "# Must use password when running commmand with sudo privs\n",
    "stdin.write(password + \"\\n\")\n",
    "\n",
    "# print(\"Kraken has finished executing\")\n",
    "\n",
    "# Create file of PIDs from Kraken output, credit Paul Gleason for the help on this!\n",
    "for line in stdout.readlines():\n",
    "    if re.findall(r'.*pid.*', line):\n",
    "        with open('pid.txt', 'w') as f:\n",
    "            f.write(line.split(\" \")[-2].split(\"=\")[-1] + ' ')\n"
   ]
  },
  {
   "cell_type": "code",
   "execution_count": 132,
   "metadata": {},
   "outputs": [],
   "source": [
    "# Run \"lsof -p\" against PIDs found in Kraken output\n",
    "\n",
    "lines = []\n",
    "\n",
    "with open('pid.txt', 'r') as f:\n",
    "    for line in f:\n",
    "        lines.append(line)\n",
    "\n",
    "for item in lines:\n",
    "    splitLines = item.split(\" \")\n",
    "\n",
    "for t in splitLines:\n",
    "\n",
    "    command = \"sudo -S lsof -p \" + t\n",
    "\n",
    "    stdin, stdout, stderr = ssh.exec_command(command)\n",
    "    stdin.write(thePass + \"\\n\")\n",
    "    stdin.flush()\n",
    "\n",
    "    # Write output to a file for better visability\n",
    "    for s in stdout.readlines():\n",
    "        with open('lsofOutput.txt', 'a') as f:\n",
    "            f.write(s)\n",
    "\n",
    "# From here I found that the user p.dalton seemed suspicious based out the lsof -p output. Looking at the lsofOutput.txt\n",
    "# file it was clear that this neeeded to be looked into further"
   ]
  },
  {
   "cell_type": "code",
   "execution_count": 120,
   "metadata": {},
   "outputs": [],
   "source": [
    "# Move files from suspicious user to home directory\n",
    "copyFiles = \"sudo -S cp -rp /home/p.dalton /home/cole.davisbrand && sudo -S cp -rp /usr/local/bin/egrep /home/cole.davisbrand\"\n",
    "stdin, stdout, stderr, = ssh.exec_command(copyFiles)\n",
    "# Must use password when running commmand with sudo privs\n",
    "stdin.write(password + \"\\n\")"
   ]
  },
  {
   "cell_type": "code",
   "execution_count": 133,
   "metadata": {},
   "outputs": [],
   "source": [
    "# Download all suspicious files\n",
    "sftp = ssh.open_sftp()\n",
    "\n",
    "files = ['/home/cole.davisbrand/p.dalton/d.pid','/home/cole.davisbrand/p.dalton/aqwerpuqwerj','/usr/local/bin/egrep']\n",
    "\n",
    "# Loop through the files and download them\n",
    "for eachFile in files:\n",
    "\n",
    "    # Create a list from the filename\n",
    "    x = eachFile.split(\"/\")\n",
    "    # -1 is used to pluck the last element in a list\n",
    "    filename = x[-1]\n",
    "\n",
    "    # Local path to store files\n",
    "    localPath = 'p.dalton/' + filename\n",
    "    sftp.get(eachFile,localPath)"
   ]
  },
  {
   "cell_type": "code",
   "execution_count": 134,
   "metadata": {},
   "outputs": [
    {
     "name": "stdout",
     "output_type": "stream",
     "text": [
      "total 528\n",
      "drwxr-xr-x  4 p.dalton p.dalton   4096 Oct 25 23:31 .\n",
      "drwxr-xr-x 66 root     root       4096 Nov  2 19:07 ..\n",
      "-rwxr-xr-x  1 p.dalton p.dalton    360 Oct 25 23:32 .bash_history\n",
      "drwxr-xr-x  2 p.dalton p.dalton   4096 Feb 26  2022 .cache\n",
      "-rwxr-xr-x  1 p.dalton p.dalton    850 Oct 25 23:32 .d.log\n",
      "-rwxr-xr-x  1 p.dalton p.dalton 511476 Feb 18  2022 aqwerpuqwerj\n",
      "-rw-r--r--  1 p.dalton p.dalton      6 Oct 25 23:32 d.pid\n",
      "drwxr-xr-x  2 p.dalton p.dalton   4096 Oct 29 19:51 test-lk\n",
      "\n"
     ]
    }
   ],
   "source": [
    "# Contents of suspicious ThugStyle username listed\n",
    "stdin, stdout, stderr = ssh.exec_command(\"/usr/bin/ls -la /home/p.dalton\")\n",
    "print(\"\".join(stdout.readlines()))\n"
   ]
  },
  {
   "cell_type": "markdown",
   "metadata": {},
   "source": [
    "What is the process name?\n",
    "egrep\n",
    "\n",
    "Which user is running the process?\n",
    "p.dalton\n",
    "\n",
    "Has the user logged in before via SSH?\n",
    "yes, 4 times\n",
    "\n",
    "When did the user login?\n",
    "Oct 25, 2022 at 23:23:31\n",
    "\n",
    "How long was the login session?\n",
    "23:23:31 - 23:31:58 (9 minutes)\n",
    "\n",
    "What is located in the unauthorized user’s home directory?\n",
    "3 files: aqwerpuqwerj, d.pid, test-lk"
   ]
  },
  {
   "cell_type": "markdown",
   "metadata": {},
   "source": [
    "Reflections:\n",
    "\n",
    "Based on what you discovered and the information in the threat report, what is your conclusion about the host you analyzed? p.dalton follows the trend of other ThugStyle threat actors. This is based on the naming scheme, SSH as the method of authentication, and storing files a bin directory.\n",
    "\n",
    "What did you like the most and least about this assignment? I liked how the we were given a threat report and then had the chance to use it to solve the puzzle. I wish we had a bit more guidance with how to navigate this assignment.\n",
    "\n",
    "What additional questions do you have? None at the moment\n"
   ]
  }
 ],
 "metadata": {
  "kernelspec": {
   "display_name": "Python 3.10.8 64-bit (microsoft store)",
   "language": "python",
   "name": "python3"
  },
  "language_info": {
   "codemirror_mode": {
    "name": "ipython",
    "version": 3
   },
   "file_extension": ".py",
   "mimetype": "text/x-python",
   "name": "python",
   "nbconvert_exporter": "python",
   "pygments_lexer": "ipython3",
   "version": "3.10.8"
  },
  "orig_nbformat": 4,
  "vscode": {
   "interpreter": {
    "hash": "4c4dad9f5aa96a06d51ceee48c851c6447da7695896dd4f02afb14135b987531"
   }
  }
 },
 "nbformat": 4,
 "nbformat_minor": 2
}
